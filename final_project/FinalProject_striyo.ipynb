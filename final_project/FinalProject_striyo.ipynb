{
 "cells": [
  {
   "cell_type": "markdown",
   "metadata": {},
   "source": [
    "# COGS 108 - Yelp Ratings and Inspection Scores"
   ]
  },
  {
   "cell_type": "markdown",
   "metadata": {},
   "source": [
    "# Overview"
   ]
  },
  {
   "cell_type": "markdown",
   "metadata": {},
   "source": [
    "This project seeks to explore the relationship between Yelp ratings and inspection scores. Inspection scores have been criticized before as \"misleading,\" as many minor points can be deducted. In the end, I find that the difference between distributions of inspection scores amongst different Yelp ratings is inconsequential, and that there is no relationship between Yelp ratings and health inspection scores."
   ]
  },
  {
   "cell_type": "markdown",
   "metadata": {},
   "source": [
    "# Name & GitHub\n",
    "\n",
    "- Name: Jerlene Hsueh\n",
    "- GitHub Username: striyo\n",
    "- PID: A15522713"
   ]
  },
  {
   "cell_type": "markdown",
   "metadata": {},
   "source": [
    "# Research Question"
   ]
  },
  {
   "cell_type": "markdown",
   "metadata": {},
   "source": [
    "Do Yelp ratings have a relationship with the distribution of average health inspection scores?"
   ]
  },
  {
   "cell_type": "markdown",
   "metadata": {},
   "source": [
    "## Background and Prior Work"
   ]
  },
  {
   "cell_type": "markdown",
   "metadata": {},
   "source": [
    "Yelp is a website commonly used to look for restaurant recommendations. Users are able to rate the restaurant out of 5 \"stars,\" and the ratings are averaged together and displayed (alongside reviews) for other users to make their own judgements about whether or not they would wish to visit the restaurant. Yelp has been noted previously to have a substantial impact on the amount of traffic and business that a restaurant receives, making it a high-profile website in so-called \"foodie\" culture.\n",
    "\n",
    "Starting in 2018 (1), Yelp began displaying the health inspection scores of restaurants on their review pages. This garnered a fair bit of controversy: not only were the methods that Yelp used to convert local government inspection procedures to a standardized scale of 1 - 100 concerningly opaque, restauranteurs objected that the display was incredibly harmful and misleading as it could take long periods of time to properly update the restaurant's grade to its rightful status. Restaurants are concerned that this display would have a harmful effect on their ratings, and consequentially their business. \n",
    "\n",
    "After launching this program in San Francisco, Yelp found that posting a low health inspection score could decrease purchase intentions for a restaurant by 12%(2). It is safe to say that if the average customer sees that a restaurant performed poorly on a government health inspection test, they would be reluctant to engage further out of perceived health risks. This begs the question: do private, unposted health inspection scores, as they stand, have any relationship with a user's perceived quality of the restaurant?\n",
    "\n",
    "\n",
    "References (include links):\n",
    "- 1)https://www.washingtonpost.com/news/voraciously/wp/2018/07/24/yelp-adds-health-inspection-scores-for-restaurants-and-restaurateurs-are-not-happy/\n",
    "- 2)https://www.dailynews.com/2020/01/22/yelps-la-county-restaurant-business-pages-will-now-include-health-score-alerts/"
   ]
  },
  {
   "cell_type": "markdown",
   "metadata": {},
   "source": [
    "# Hypothesis\n"
   ]
  },
  {
   "cell_type": "markdown",
   "metadata": {},
   "source": [
    "I hypothesize that health inspection scores have no relationship with Yelp ratings, because I believe that many health inspections infractions are relatively trivial, and have no significant impact on a customer's perceived quality of the restaurant."
   ]
  },
  {
   "cell_type": "markdown",
   "metadata": {},
   "source": [
    "# Dataset(s)"
   ]
  },
  {
   "cell_type": "markdown",
   "metadata": {},
   "source": [
    "- Dataset Name: yelp.csv\n",
    "- Link to the dataset: Given (individual proj)\n",
    "- Number of observations: 3688\n",
    "\n",
    "Contains information about the restaurant, its Yelp rating, its price category, and the food category that it fits into. It also contains other identifiers, such as phone numbers and addresses.\n",
    "\n",
    "- Dataset Name: inspections.csv\n",
    "- Link to the dataset: Given (individual proj)\n",
    "- Number of observations: 18466\n",
    "\n",
    "Contains information about each health inspection on a restaurant that was conducted by a health inspector. It contains variables such as the date of the inspection, restaurant identifiers, and the inspection's overall score, as well as any comments.\n",
    "\n",
    "\n",
    "I plan to combine these two datasets by utilizing the shared phone numbers between the two."
   ]
  },
  {
   "cell_type": "markdown",
   "metadata": {},
   "source": [
    "# Setup"
   ]
  },
  {
   "cell_type": "code",
   "execution_count": 1,
   "metadata": {},
   "outputs": [],
   "source": [
    "import pandas as pd\n",
    "import geopandas as gpd\n",
    "import numpy as np\n",
    "import contextily as ctx\n",
    "import matplotlib.pyplot as plt\n",
    "import seaborn as sns\n",
    "\n",
    "import patsy\n",
    "import statsmodels.api as sm\n",
    "import scipy.stats as stats\n",
    "from scipy.stats import ttest_ind, chisquare, normaltest"
   ]
  },
  {
   "cell_type": "markdown",
   "metadata": {},
   "source": [
    "# Data Cleaning"
   ]
  },
  {
   "cell_type": "markdown",
   "metadata": {},
   "source": [
    "First, let's take a look at what we're working with."
   ]
  },
  {
   "cell_type": "code",
   "execution_count": 2,
   "metadata": {},
   "outputs": [],
   "source": [
    "inspections = pd.read_csv('inspections.csv')\n",
    "yelp = pd.read_csv('yelp.csv')"
   ]
  },
  {
   "cell_type": "code",
   "execution_count": 3,
   "metadata": {},
   "outputs": [
    {
     "data": {
      "text/plain": [
       "(18466, 36)"
      ]
     },
     "execution_count": 3,
     "metadata": {},
     "output_type": "execute_result"
    }
   ],
   "source": [
    "inspections.shape"
   ]
  },
  {
   "cell_type": "code",
   "execution_count": 4,
   "metadata": {},
   "outputs": [
    {
     "data": {
      "text/plain": [
       "Index(['hsisid', 'date', 'name', 'address1', 'address2', 'city', 'state',\n",
       "       'postalcode', 'phonenumber', 'restaurantopendate',\n",
       "       'days_from_open_date', 'facilitytype', 'x', 'y', 'geocodestatus', 'zip',\n",
       "       'type', 'description', 'inspectedby', 'inspection_num', 'inspector_id',\n",
       "       'previous_inspection_date', 'days_since_previous_inspection',\n",
       "       'previous_inspection_by_same_inspector', 'score', 'num_critical',\n",
       "       'num_non_critical', 'num_critical_previous',\n",
       "       'num_non_critical_previous', 'num_critical_mean_previous',\n",
       "       'num_non_critical_mean_previous', 'avg_neighbor_num_critical',\n",
       "       'avg_neighbor_num_non_critical', 'top_match', 'second_match',\n",
       "       'critical'],\n",
       "      dtype='object')"
      ]
     },
     "execution_count": 4,
     "metadata": {},
     "output_type": "execute_result"
    }
   ],
   "source": [
    "inspections.columns"
   ]
  },
  {
   "cell_type": "code",
   "execution_count": 5,
   "metadata": {},
   "outputs": [
    {
     "data": {
      "text/plain": [
       "Index(['id', 'name', 'is_closed', 'rating', 'review_count', 'address1',\n",
       "       'zip_code', 'latitude', 'longitude', 'price', 'phone', 'hotdogs',\n",
       "       'sandwiches', 'pizza', 'tradamerican', 'burgers', 'mexican', 'grocery',\n",
       "       'breakfast_brunch', 'coffee', 'chinese', 'italian', 'newamerican',\n",
       "       'chicken_wings', 'delis', 'bars', 'salad', 'seafood', 'bbq', 'bakeries',\n",
       "       'sushi'],\n",
       "      dtype='object')"
      ]
     },
     "execution_count": 5,
     "metadata": {},
     "output_type": "execute_result"
    }
   ],
   "source": [
    "yelp.columns"
   ]
  },
  {
   "cell_type": "markdown",
   "metadata": {},
   "source": [
    "That's a lot of columns, but we're mostly interested in the phone number columns (for merging and cleaning) as well as scores and rating (for analysis). Let's clean it up. "
   ]
  },
  {
   "cell_type": "code",
   "execution_count": 6,
   "metadata": {},
   "outputs": [
    {
     "data": {
      "text/html": [
       "<div>\n",
       "<style scoped>\n",
       "    .dataframe tbody tr th:only-of-type {\n",
       "        vertical-align: middle;\n",
       "    }\n",
       "\n",
       "    .dataframe tbody tr th {\n",
       "        vertical-align: top;\n",
       "    }\n",
       "\n",
       "    .dataframe thead th {\n",
       "        text-align: right;\n",
       "    }\n",
       "</style>\n",
       "<table border=\"1\" class=\"dataframe\">\n",
       "  <thead>\n",
       "    <tr style=\"text-align: right;\">\n",
       "      <th></th>\n",
       "      <th>hsisid</th>\n",
       "      <th>date</th>\n",
       "      <th>name</th>\n",
       "      <th>address1</th>\n",
       "      <th>address2</th>\n",
       "      <th>city</th>\n",
       "      <th>state</th>\n",
       "      <th>postalcode</th>\n",
       "      <th>phonenumber</th>\n",
       "      <th>restaurantopendate</th>\n",
       "      <th>...</th>\n",
       "      <th>num_non_critical</th>\n",
       "      <th>num_critical_previous</th>\n",
       "      <th>num_non_critical_previous</th>\n",
       "      <th>num_critical_mean_previous</th>\n",
       "      <th>num_non_critical_mean_previous</th>\n",
       "      <th>avg_neighbor_num_critical</th>\n",
       "      <th>avg_neighbor_num_non_critical</th>\n",
       "      <th>top_match</th>\n",
       "      <th>second_match</th>\n",
       "      <th>critical</th>\n",
       "    </tr>\n",
       "  </thead>\n",
       "  <tbody>\n",
       "    <tr>\n",
       "      <th>3</th>\n",
       "      <td>4092016122</td>\n",
       "      <td>2012-09-21T00:00:00Z</td>\n",
       "      <td>Panera Bread #1643</td>\n",
       "      <td>1065 Darrington DR</td>\n",
       "      <td>NaN</td>\n",
       "      <td>cary</td>\n",
       "      <td>NC</td>\n",
       "      <td>27513</td>\n",
       "      <td>NaN</td>\n",
       "      <td>2012-03-28T00:00:00Z</td>\n",
       "      <td>...</td>\n",
       "      <td>3</td>\n",
       "      <td>NaN</td>\n",
       "      <td>NaN</td>\n",
       "      <td>NaN</td>\n",
       "      <td>NaN</td>\n",
       "      <td>NaN</td>\n",
       "      <td>NaN</td>\n",
       "      <td>NaN</td>\n",
       "      <td>NaN</td>\n",
       "      <td>1</td>\n",
       "    </tr>\n",
       "    <tr>\n",
       "      <th>19</th>\n",
       "      <td>4092300210</td>\n",
       "      <td>2012-09-25T00:00:00Z</td>\n",
       "      <td>International Foods</td>\n",
       "      <td>2215 New Hope Church Rd</td>\n",
       "      <td>NaN</td>\n",
       "      <td>raleigh</td>\n",
       "      <td>NC</td>\n",
       "      <td>27604-1600</td>\n",
       "      <td>NaN</td>\n",
       "      <td>2002-09-19T00:00:00Z</td>\n",
       "      <td>...</td>\n",
       "      <td>6</td>\n",
       "      <td>NaN</td>\n",
       "      <td>NaN</td>\n",
       "      <td>NaN</td>\n",
       "      <td>NaN</td>\n",
       "      <td>4.8</td>\n",
       "      <td>9.4</td>\n",
       "      <td>4.092014e+09</td>\n",
       "      <td>4.092014e+09</td>\n",
       "      <td>0</td>\n",
       "    </tr>\n",
       "    <tr>\n",
       "      <th>45</th>\n",
       "      <td>4092300175</td>\n",
       "      <td>2012-09-27T00:00:00Z</td>\n",
       "      <td>Food Lion #1496 Meat Market</td>\n",
       "      <td>1777 W Williams ST</td>\n",
       "      <td>NaN</td>\n",
       "      <td>apex</td>\n",
       "      <td>NC</td>\n",
       "      <td>27502</td>\n",
       "      <td>NaN</td>\n",
       "      <td>2000-07-01T00:00:00Z</td>\n",
       "      <td>...</td>\n",
       "      <td>4</td>\n",
       "      <td>NaN</td>\n",
       "      <td>NaN</td>\n",
       "      <td>NaN</td>\n",
       "      <td>NaN</td>\n",
       "      <td>5.0</td>\n",
       "      <td>5.4</td>\n",
       "      <td>4.092110e+09</td>\n",
       "      <td>4.092050e+09</td>\n",
       "      <td>1</td>\n",
       "    </tr>\n",
       "    <tr>\n",
       "      <th>87</th>\n",
       "      <td>4092110490</td>\n",
       "      <td>2012-10-03T00:00:00Z</td>\n",
       "      <td>HOLLY GROVE MIDDLE SCHOOL CAFETERIA</td>\n",
       "      <td>1401  AVENT FERRY RD</td>\n",
       "      <td>NaN</td>\n",
       "      <td>holly springs</td>\n",
       "      <td>NC</td>\n",
       "      <td>27540</td>\n",
       "      <td>NaN</td>\n",
       "      <td>2010-03-30T00:00:00Z</td>\n",
       "      <td>...</td>\n",
       "      <td>2</td>\n",
       "      <td>NaN</td>\n",
       "      <td>NaN</td>\n",
       "      <td>NaN</td>\n",
       "      <td>NaN</td>\n",
       "      <td>7.4</td>\n",
       "      <td>7.6</td>\n",
       "      <td>4.092014e+09</td>\n",
       "      <td>4.092016e+09</td>\n",
       "      <td>1</td>\n",
       "    </tr>\n",
       "    <tr>\n",
       "      <th>102</th>\n",
       "      <td>4092300155</td>\n",
       "      <td>2012-10-04T00:00:00Z</td>\n",
       "      <td>Food Lion #586 Meat Market</td>\n",
       "      <td>3416 POOLE RD</td>\n",
       "      <td>NaN</td>\n",
       "      <td>raleigh</td>\n",
       "      <td>NC</td>\n",
       "      <td>27610-2918</td>\n",
       "      <td>NaN</td>\n",
       "      <td>2000-07-01T00:00:00Z</td>\n",
       "      <td>...</td>\n",
       "      <td>5</td>\n",
       "      <td>NaN</td>\n",
       "      <td>NaN</td>\n",
       "      <td>NaN</td>\n",
       "      <td>NaN</td>\n",
       "      <td>3.8</td>\n",
       "      <td>7.8</td>\n",
       "      <td>4.092014e+09</td>\n",
       "      <td>4.092016e+09</td>\n",
       "      <td>1</td>\n",
       "    </tr>\n",
       "  </tbody>\n",
       "</table>\n",
       "<p>5 rows × 36 columns</p>\n",
       "</div>"
      ],
      "text/plain": [
       "         hsisid                  date                                 name  \\\n",
       "3    4092016122  2012-09-21T00:00:00Z                   Panera Bread #1643   \n",
       "19   4092300210  2012-09-25T00:00:00Z                  International Foods   \n",
       "45   4092300175  2012-09-27T00:00:00Z          Food Lion #1496 Meat Market   \n",
       "87   4092110490  2012-10-03T00:00:00Z  HOLLY GROVE MIDDLE SCHOOL CAFETERIA   \n",
       "102  4092300155  2012-10-04T00:00:00Z           Food Lion #586 Meat Market   \n",
       "\n",
       "                    address1 address2           city state  postalcode  \\\n",
       "3         1065 Darrington DR      NaN           cary    NC       27513   \n",
       "19   2215 New Hope Church Rd      NaN        raleigh    NC  27604-1600   \n",
       "45        1777 W Williams ST      NaN           apex    NC       27502   \n",
       "87      1401  AVENT FERRY RD      NaN  holly springs    NC       27540   \n",
       "102            3416 POOLE RD      NaN        raleigh    NC  27610-2918   \n",
       "\n",
       "    phonenumber    restaurantopendate  ...  num_non_critical  \\\n",
       "3           NaN  2012-03-28T00:00:00Z  ...                 3   \n",
       "19          NaN  2002-09-19T00:00:00Z  ...                 6   \n",
       "45          NaN  2000-07-01T00:00:00Z  ...                 4   \n",
       "87          NaN  2010-03-30T00:00:00Z  ...                 2   \n",
       "102         NaN  2000-07-01T00:00:00Z  ...                 5   \n",
       "\n",
       "    num_critical_previous  num_non_critical_previous  \\\n",
       "3                     NaN                        NaN   \n",
       "19                    NaN                        NaN   \n",
       "45                    NaN                        NaN   \n",
       "87                    NaN                        NaN   \n",
       "102                   NaN                        NaN   \n",
       "\n",
       "     num_critical_mean_previous num_non_critical_mean_previous  \\\n",
       "3                           NaN                            NaN   \n",
       "19                          NaN                            NaN   \n",
       "45                          NaN                            NaN   \n",
       "87                          NaN                            NaN   \n",
       "102                         NaN                            NaN   \n",
       "\n",
       "     avg_neighbor_num_critical avg_neighbor_num_non_critical     top_match  \\\n",
       "3                          NaN                           NaN           NaN   \n",
       "19                         4.8                           9.4  4.092014e+09   \n",
       "45                         5.0                           5.4  4.092110e+09   \n",
       "87                         7.4                           7.6  4.092014e+09   \n",
       "102                        3.8                           7.8  4.092014e+09   \n",
       "\n",
       "     second_match  critical  \n",
       "3             NaN         1  \n",
       "19   4.092014e+09         0  \n",
       "45   4.092050e+09         1  \n",
       "87   4.092016e+09         1  \n",
       "102  4.092016e+09         1  \n",
       "\n",
       "[5 rows x 36 columns]"
      ]
     },
     "execution_count": 6,
     "metadata": {},
     "output_type": "execute_result"
    }
   ],
   "source": [
    "rows_to_drop = inspections[inspections.phonenumber.isnull()]\n",
    "rows_to_drop.head()"
   ]
  },
  {
   "cell_type": "code",
   "execution_count": 7,
   "metadata": {},
   "outputs": [
    {
     "data": {
      "text/plain": [
       "(17965, 36)"
      ]
     },
     "execution_count": 7,
     "metadata": {},
     "output_type": "execute_result"
    }
   ],
   "source": [
    "#dropped inspections with missing phone numbers and score\n",
    "inspections = inspections.dropna(axis = 0, subset = ['phonenumber', 'score'])\n",
    "inspections.shape"
   ]
  },
  {
   "cell_type": "code",
   "execution_count": 8,
   "metadata": {},
   "outputs": [],
   "source": [
    "#clean up phone numbers on inspections\n",
    "def standardize_phone(string):\n",
    "    string = string.lower()\n",
    "    string = string.strip()\n",
    "    string = string.replace('(','').replace(')','')\n",
    "    string = string.replace('-','')\n",
    "    string = string.replace(\" \", \"\")\n",
    "    \n",
    "    if 'ext' in string:\n",
    "        string = string[:string.find(\"ext\")]\n",
    "    return '1' + string"
   ]
  },
  {
   "cell_type": "code",
   "execution_count": 9,
   "metadata": {},
   "outputs": [],
   "source": [
    "inspections['phonenumber'] = inspections['phonenumber'].apply(standardize_phone)"
   ]
  },
  {
   "cell_type": "markdown",
   "metadata": {},
   "source": [
    "Now that the 'phonenumber' column in the inspections dataframe is properly standardized so that it has the same format as the phone numbers in the yelp dataframe, we can now go ahead and merge the two dataframes together on the phone columns. "
   ]
  },
  {
   "cell_type": "code",
   "execution_count": 11,
   "metadata": {},
   "outputs": [],
   "source": [
    "#rename\n",
    "inspections = inspections.rename(columns={\"phonenumber\": \"phone\"})\n",
    "#merge\n",
    "df = pd.merge(inspections, yelp, on='phone')"
   ]
  },
  {
   "cell_type": "markdown",
   "metadata": {},
   "source": [
    "As we can see below, we've successfully combined the data between inspections and yelp."
   ]
  },
  {
   "cell_type": "code",
   "execution_count": 34,
   "metadata": {},
   "outputs": [
    {
     "data": {
      "text/plain": [
       "Index(['hsisid', 'date', 'name_x', 'address1_x', 'address2', 'city', 'state',\n",
       "       'postalcode', 'phone', 'restaurantopendate', 'days_from_open_date',\n",
       "       'facilitytype', 'x', 'y', 'geocodestatus', 'zip', 'type', 'description',\n",
       "       'inspectedby', 'inspection_num', 'inspector_id',\n",
       "       'previous_inspection_date', 'days_since_previous_inspection',\n",
       "       'previous_inspection_by_same_inspector', 'score', 'num_critical',\n",
       "       'num_non_critical', 'num_critical_previous',\n",
       "       'num_non_critical_previous', 'num_critical_mean_previous',\n",
       "       'num_non_critical_mean_previous', 'avg_neighbor_num_critical',\n",
       "       'avg_neighbor_num_non_critical', 'top_match', 'second_match',\n",
       "       'critical', 'id', 'name_y', 'is_closed', 'rating', 'review_count',\n",
       "       'address1_y', 'zip_code', 'latitude', 'longitude', 'price', 'hotdogs',\n",
       "       'sandwiches', 'pizza', 'tradamerican', 'burgers', 'mexican', 'grocery',\n",
       "       'breakfast_brunch', 'coffee', 'chinese', 'italian', 'newamerican',\n",
       "       'chicken_wings', 'delis', 'bars', 'salad', 'seafood', 'bbq', 'bakeries',\n",
       "       'sushi'],\n",
       "      dtype='object')"
      ]
     },
     "execution_count": 34,
     "metadata": {},
     "output_type": "execute_result"
    }
   ],
   "source": [
    "df.columns"
   ]
  },
  {
   "cell_type": "markdown",
   "metadata": {},
   "source": [
    "Let's also check to see if there's any missing Yelp ratings and remove them."
   ]
  },
  {
   "cell_type": "code",
   "execution_count": 13,
   "metadata": {},
   "outputs": [],
   "source": [
    "df = df.dropna(axis = 0, subset = ['rating'])"
   ]
  },
  {
   "cell_type": "markdown",
   "metadata": {},
   "source": [
    "# Data Analysis & Results"
   ]
  },
  {
   "cell_type": "markdown",
   "metadata": {},
   "source": [
    "Let's take a look at the data and see some of the stats for the 'score' and 'rating' variables respectively."
   ]
  },
  {
   "cell_type": "code",
   "execution_count": 14,
   "metadata": {},
   "outputs": [
    {
     "data": {
      "text/plain": [
       "hsisid\n",
       "4092010018    94.333333\n",
       "4092010024    94.772727\n",
       "4092010037    96.400000\n",
       "4092010046    96.318182\n",
       "4092010065    96.750000\n",
       "                ...    \n",
       "4092300263    94.000000\n",
       "4092300267    98.250000\n",
       "4092300270    98.000000\n",
       "4092300271    92.500000\n",
       "4092300274    99.500000\n",
       "Name: score, Length: 2003, dtype: float64"
      ]
     },
     "execution_count": 14,
     "metadata": {},
     "output_type": "execute_result"
    }
   ],
   "source": [
    "score_mean = df.groupby('hsisid')['score'].mean()\n",
    "score_mean"
   ]
  },
  {
   "cell_type": "code",
   "execution_count": 15,
   "metadata": {},
   "outputs": [
    {
     "data": {
      "text/plain": [
       "hsisid\n",
       "4092010018    4.0\n",
       "4092010024    2.0\n",
       "4092010037    4.5\n",
       "4092010046    3.0\n",
       "4092010065    4.0\n",
       "             ... \n",
       "4092300263    5.0\n",
       "4092300267    4.0\n",
       "4092300270    4.5\n",
       "4092300271    4.5\n",
       "4092300274    4.0\n",
       "Name: rating, Length: 2003, dtype: float64"
      ]
     },
     "execution_count": 15,
     "metadata": {},
     "output_type": "execute_result"
    }
   ],
   "source": [
    "rating = df.groupby('hsisid')['rating'].mean()\n",
    "rating"
   ]
  },
  {
   "cell_type": "markdown",
   "metadata": {},
   "source": [
    "I made a new dataframe containing the rating and mean score for each restaurant (identified through its hsisid)."
   ]
  },
  {
   "cell_type": "code",
   "execution_count": 16,
   "metadata": {},
   "outputs": [
    {
     "data": {
      "text/html": [
       "<div>\n",
       "<style scoped>\n",
       "    .dataframe tbody tr th:only-of-type {\n",
       "        vertical-align: middle;\n",
       "    }\n",
       "\n",
       "    .dataframe tbody tr th {\n",
       "        vertical-align: top;\n",
       "    }\n",
       "\n",
       "    .dataframe thead th {\n",
       "        text-align: right;\n",
       "    }\n",
       "</style>\n",
       "<table border=\"1\" class=\"dataframe\">\n",
       "  <thead>\n",
       "    <tr style=\"text-align: right;\">\n",
       "      <th></th>\n",
       "      <th>score</th>\n",
       "      <th>rating</th>\n",
       "    </tr>\n",
       "    <tr>\n",
       "      <th>hsisid</th>\n",
       "      <th></th>\n",
       "      <th></th>\n",
       "    </tr>\n",
       "  </thead>\n",
       "  <tbody>\n",
       "    <tr>\n",
       "      <th>4092010018</th>\n",
       "      <td>94.333333</td>\n",
       "      <td>4.0</td>\n",
       "    </tr>\n",
       "    <tr>\n",
       "      <th>4092010024</th>\n",
       "      <td>94.772727</td>\n",
       "      <td>2.0</td>\n",
       "    </tr>\n",
       "    <tr>\n",
       "      <th>4092010037</th>\n",
       "      <td>96.400000</td>\n",
       "      <td>4.5</td>\n",
       "    </tr>\n",
       "    <tr>\n",
       "      <th>4092010046</th>\n",
       "      <td>96.318182</td>\n",
       "      <td>3.0</td>\n",
       "    </tr>\n",
       "    <tr>\n",
       "      <th>4092010065</th>\n",
       "      <td>96.750000</td>\n",
       "      <td>4.0</td>\n",
       "    </tr>\n",
       "  </tbody>\n",
       "</table>\n",
       "</div>"
      ],
      "text/plain": [
       "                score  rating\n",
       "hsisid                       \n",
       "4092010018  94.333333     4.0\n",
       "4092010024  94.772727     2.0\n",
       "4092010037  96.400000     4.5\n",
       "4092010046  96.318182     3.0\n",
       "4092010065  96.750000     4.0"
      ]
     },
     "execution_count": 16,
     "metadata": {},
     "output_type": "execute_result"
    }
   ],
   "source": [
    "test = pd.concat([score_mean, rating], axis = 1)\n",
    "test.head()"
   ]
  },
  {
   "cell_type": "markdown",
   "metadata": {},
   "source": [
    "We plot the distributions of each variable."
   ]
  },
  {
   "cell_type": "code",
   "execution_count": 17,
   "metadata": {},
   "outputs": [
    {
     "data": {
      "text/plain": [
       "Text(0.5, 0, 'score')"
      ]
     },
     "execution_count": 17,
     "metadata": {},
     "output_type": "execute_result"
    },
    {
     "data": {
      "image/png": "[encoded data removed]",
      "text/plain": [
       "<Figure size 432x288 with 1 Axes>"
      ]
     },
     "metadata": {
      "needs_background": "light"
     },
     "output_type": "display_data"
    }
   ],
   "source": [
    "scoreHist = test['score'].hist()\n",
    "scoreHist.set_title('Distribution of Inspection Scores',fontweight=\"bold\", size=20)\n",
    "scoreHist.set_xlabel(\"score\", fontsize = 18)\n"
   ]
  },
  {
   "cell_type": "markdown",
   "metadata": {},
   "source": [
    "We see that most average inspection scores are actually fairly good. The mean is roughly around 96, which corresponds to an 'A' rating. It doesn't look normal, though."
   ]
  },
  {
   "cell_type": "code",
   "execution_count": 18,
   "metadata": {},
   "outputs": [
    {
     "data": {
      "text/plain": [
       "95.96209292316381"
      ]
     },
     "execution_count": 18,
     "metadata": {},
     "output_type": "execute_result"
    }
   ],
   "source": [
    "test['score'].mean()"
   ]
  },
  {
   "cell_type": "code",
   "execution_count": 19,
   "metadata": {},
   "outputs": [
    {
     "data": {
      "text/plain": [
       "Text(0.5, 0, 'rating')"
      ]
     },
     "execution_count": 19,
     "metadata": {},
     "output_type": "execute_result"
    },
    {
     "data": {
      "image/png": "[encoded data removed]",
      "text/plain": [
       "<Figure size 432x288 with 1 Axes>"
      ]
     },
     "metadata": {
      "needs_background": "light"
     },
     "output_type": "display_data"
    }
   ],
   "source": [
    "ratingHist = test['rating'].hist()\n",
    "ratingHist.set_title('Distribution of Yelp Ratings', fontweight=\"bold\", size = 20)\n",
    "ratingHist.set_xlabel(\"rating\", fontsize = 18)"
   ]
  },
  {
   "cell_type": "code",
   "execution_count": 35,
   "metadata": {},
   "outputs": [
    {
     "data": {
      "text/plain": [
       "3.4780329505741387"
      ]
     },
     "execution_count": 35,
     "metadata": {},
     "output_type": "execute_result"
    }
   ],
   "source": [
    "test['rating'].mean()"
   ]
  },
  {
   "cell_type": "markdown",
   "metadata": {},
   "source": [
    "Yelp ratings have a mean roughly around 3.5. There aren't many ratings that are above 4 stars, and the distribution is visibly left skewed.\n",
    "\n",
    "Unfortunately, these distributions don't look very normal. We investigate further:"
   ]
  },
  {
   "cell_type": "code",
   "execution_count": 20,
   "metadata": {},
   "outputs": [],
   "source": [
    "h_rating = test['rating'].values\n",
    "h_score = test['score'].values"
   ]
  },
  {
   "cell_type": "code",
   "execution_count": 21,
   "metadata": {},
   "outputs": [
    {
     "name": "stdout",
     "output_type": "stream",
     "text": [
      "150.82968252917888\n",
      "1.7690926786330658e-33\n",
      "577.6581092265102\n",
      "3.657087640424084e-126\n"
     ]
    }
   ],
   "source": [
    "st_rating = normaltest(h_rating)[0]\n",
    "p_rating = normaltest(h_rating)[1]\n",
    "st_score = normaltest(h_score)[0]\n",
    "p_score = normaltest(h_score)[1]\n",
    "print(st_rating)\n",
    "print(p_rating)\n",
    "print(st_score)\n",
    "print(p_score)"
   ]
  },
  {
   "cell_type": "markdown",
   "metadata": {},
   "source": [
    "...And our suspicions are confirmed. With an alpha level of 0.01, there's a significant difference from a normal distribution. However, we can still investigate individual distributions within each discrete value of Yelp ratings."
   ]
  },
  {
   "cell_type": "code",
   "execution_count": 22,
   "metadata": {},
   "outputs": [
    {
     "data": {
      "text/plain": [
       "Text(0, 0.5, 'score')"
      ]
     },
     "execution_count": 22,
     "metadata": {},
     "output_type": "execute_result"
    },
    {
     "data": {
      "image/png": "[encoded data removed]",
      "text/plain": [
       "<Figure size 432x288 with 1 Axes>"
      ]
     },
     "metadata": {
      "needs_background": "light"
     },
     "output_type": "display_data"
    }
   ],
   "source": [
    "plt.scatter(df['rating'], df['score'])\n",
    "plt.title('Relationship Between Yelp Rating and Health Inspection Score', fontweight=\"bold\", size = 20)\n",
    "plt.xlabel('rating', size = 18)\n",
    "plt.ylabel('score', size = 18)"
   ]
  },
  {
   "cell_type": "markdown",
   "metadata": {},
   "source": [
    "Here, we see the scatterplot generated by plotting Yelp ratings on the x-axis and inspection scores on the y-axis. These distributions look fairly uniform, and suggest that there isn't much variation when it comes to the distribution of health inspection scores related to Yelp ratings. We investigate further."
   ]
  },
  {
   "cell_type": "code",
   "execution_count": 23,
   "metadata": {},
   "outputs": [],
   "source": [
    "h_five = test[test['rating'] == 5.0]['score'].values\n",
    "h_fourf = test[test['rating']== 4.5]['score'].values\n",
    "h_four = test[test['rating'] == 4.0]['score'].values\n",
    "h_threef = test[test['rating'] == 3.5]['score'].values\n",
    "h_three = test[test['rating'] == 3.0]['score'].values\n",
    "h_twof = test[test['rating'] == 2.5]['score'].values\n",
    "h_two = test[test['rating'] == 2.0]['score'].values\n",
    "h_onef = test[test['rating'] == 1.5]['score'].values\n",
    "h_one = test[test['rating'] == 1.0]['score'].values"
   ]
  },
  {
   "cell_type": "markdown",
   "metadata": {},
   "source": [
    "Okay, let's look and check to see if these values have normal distributions."
   ]
  },
  {
   "cell_type": "code",
   "execution_count": 24,
   "metadata": {},
   "outputs": [
    {
     "data": {
      "text/plain": [
       "NormaltestResult(statistic=6.045414477660174, pvalue=0.04866928048296503)"
      ]
     },
     "execution_count": 24,
     "metadata": {},
     "output_type": "execute_result"
    }
   ],
   "source": [
    "normaltest(h_five)"
   ]
  },
  {
   "cell_type": "code",
   "execution_count": 25,
   "metadata": {},
   "outputs": [
    {
     "data": {
      "text/plain": [
       "NormaltestResult(statistic=19.8300135856724, pvalue=4.942734260634337e-05)"
      ]
     },
     "execution_count": 25,
     "metadata": {},
     "output_type": "execute_result"
    }
   ],
   "source": [
    "normaltest(h_fourf)"
   ]
  },
  {
   "cell_type": "code",
   "execution_count": 26,
   "metadata": {},
   "outputs": [
    {
     "data": {
      "text/plain": [
       "NormaltestResult(statistic=36.022195863877826, pvalue=1.5061892899444217e-08)"
      ]
     },
     "execution_count": 26,
     "metadata": {},
     "output_type": "execute_result"
    }
   ],
   "source": [
    "normaltest(h_four)"
   ]
  },
  {
   "cell_type": "code",
   "execution_count": 27,
   "metadata": {},
   "outputs": [
    {
     "data": {
      "text/plain": [
       "NormaltestResult(statistic=270.6396338342661, pvalue=1.7035317048094411e-59)"
      ]
     },
     "execution_count": 27,
     "metadata": {},
     "output_type": "execute_result"
    }
   ],
   "source": [
    "normaltest(h_threef)"
   ]
  },
  {
   "cell_type": "code",
   "execution_count": 28,
   "metadata": {},
   "outputs": [
    {
     "data": {
      "text/plain": [
       "NormaltestResult(statistic=65.7768145576472, pvalue=5.208902161959703e-15)"
      ]
     },
     "execution_count": 28,
     "metadata": {},
     "output_type": "execute_result"
    }
   ],
   "source": [
    "normaltest(h_three)"
   ]
  },
  {
   "cell_type": "code",
   "execution_count": 29,
   "metadata": {},
   "outputs": [
    {
     "data": {
      "text/plain": [
       "NormaltestResult(statistic=4.263760726936458, pvalue=0.11861404650524357)"
      ]
     },
     "execution_count": 29,
     "metadata": {},
     "output_type": "execute_result"
    }
   ],
   "source": [
    "normaltest(h_twof)"
   ]
  },
  {
   "cell_type": "code",
   "execution_count": 30,
   "metadata": {},
   "outputs": [
    {
     "data": {
      "text/plain": [
       "NormaltestResult(statistic=29.979104212394063, pvalue=3.0911510967534545e-07)"
      ]
     },
     "execution_count": 30,
     "metadata": {},
     "output_type": "execute_result"
    }
   ],
   "source": [
    "normaltest(h_two)"
   ]
  },
  {
   "cell_type": "code",
   "execution_count": 31,
   "metadata": {},
   "outputs": [
    {
     "data": {
      "text/plain": [
       "NormaltestResult(statistic=1.8340908649663303, pvalue=0.399698233642346)"
      ]
     },
     "execution_count": 31,
     "metadata": {},
     "output_type": "execute_result"
    }
   ],
   "source": [
    "normaltest(h_onef)"
   ]
  },
  {
   "cell_type": "code",
   "execution_count": 32,
   "metadata": {},
   "outputs": [
    {
     "data": {
      "text/plain": [
       "NormaltestResult(statistic=2.0619590421351623, pvalue=0.3566574359413113)"
      ]
     },
     "execution_count": 32,
     "metadata": {},
     "output_type": "execute_result"
    }
   ],
   "source": [
    "normaltest(h_one)"
   ]
  },
  {
   "cell_type": "markdown",
   "metadata": {},
   "source": [
    "Some of the above distributions are normal, while others aren't. We conduct a one way ANOVA test on the distributions that *are* normal, in order to check to see if there is a significant difference between the means of these groups."
   ]
  },
  {
   "cell_type": "code",
   "execution_count": 33,
   "metadata": {},
   "outputs": [
    {
     "data": {
      "text/plain": [
       "F_onewayResult(statistic=3.1521227424049365, pvalue=0.02543378899927648)"
      ]
     },
     "execution_count": 33,
     "metadata": {},
     "output_type": "execute_result"
    }
   ],
   "source": [
    "stats.f_oneway(h_five, h_twof, h_onef, h_one)"
   ]
  },
  {
   "cell_type": "markdown",
   "metadata": {},
   "source": [
    "With a p-value of ~0.02, which is greater than alpha = 0.01, we fail to reject the null hypothesis. There is not a significant difference in between the mean of the Yelp rating distributions. "
   ]
  },
  {
   "cell_type": "markdown",
   "metadata": {},
   "source": [
    "# Ethics & Privacy"
   ]
  },
  {
   "cell_type": "markdown",
   "metadata": {},
   "source": [
    "Consent is not too large of an issue, as restaurant health inspection scores and Yelp ratings are both public data. The main ethics issue concerning this project is regarding the human bias in collection of data, as well as the impacts of unfair health inspections towards certain restaurants—for instance, it is possible that inspectors are biased towards certain restaurants with certain Yelp ratings, and unfairly skew the data. We must also be conscious that Yelp ratings are not an absolute judge of quality, and that at the end of the day, restaurant quality can be entirely subjective. Although we may find that inspection scores have at very best a tenuous relationship with Yelp ratings, this is not to say that inspection scores are not useful metrics for determining quality.\n",
    "\n",
    "For the sake of privacy, phone numbers have been carefully omitted from the writeup of this project. They were, however, used in order to match restaurants and merge between two different datasets. "
   ]
  },
  {
   "cell_type": "markdown",
   "metadata": {},
   "source": [
    "# Conclusion & Discussion"
   ]
  },
  {
   "cell_type": "markdown",
   "metadata": {},
   "source": [
    "Firstly, we should remember that this project only wished to evaluate the relationship between the available data of health inspection scores and Yelp ratings. Both are a product of human evaluation, and, as such, are prone to human bias. As noted above in ethics, the fact that there's no perceived difference in quality between different inspection scores doesn't mean that health inspections are absolutely useless. It is possible that Yelp ratings are mostly focused on taste and flavor, and are not as concerned as a inspector is on whether or not an employee has properly labelled a bottle of hand sanitizer in the kitchen. We also did not account for the number of Yelp reviews, which casts doubt to the true Yelp rating of the restaurants. Lower review counts suggest a more unreliable rating, and may have negatively influenced the accuracy of this project.\n",
    "\n",
    "Secondly, note that this project did not include some of the Yelp rating distributions in the ANOVA test. Although this ideally would not happen, I believe this to be forgiveable because we have included the distributions of a Yelp rating of 'one' and 'five,' which is the biggest rating difference possible. If there was truly a significant result to be found, then it would have surely been detected through the ANOVA test of the 'one' and 'five' distribution. \n",
    "\n",
    "Seeing that even restaurants with a one star rating have roughly the same distribution in inspection scores as restaurants with a five star rating suggests that the proficiency of a restaurant in following local health ordinances has no correlation with the flavor and taste that a customer experiences. This further seems to suggest that inspectors are not swayed or biased by Yelp ratings, which supports my wish that restaurant health inspections be an unbiased process that does not take into account the popularity of the restaurant on a website. There are still other factors to be explored, such as whether a restaurant with a wealthier clientele tends to recieve better scores, but this is the conclusion when it comes to Yelp ratings.\n"
   ]
  }
 ],
 "metadata": {
  "kernelspec": {
   "display_name": "Python 3",
   "language": "python",
   "name": "python3"
  },
  "language_info": {
   "codemirror_mode": {
    "name": "ipython",
    "version": 3
   },
   "file_extension": ".py",
   "mimetype": "text/x-python",
   "name": "python",
   "nbconvert_exporter": "python",
   "pygments_lexer": "ipython3",
   "version": "3.7.7"
  }
 },
 "nbformat": 4,
 "nbformat_minor": 2
}
